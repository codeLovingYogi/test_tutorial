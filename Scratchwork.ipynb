{
 "cells": [
  {
   "cell_type": "code",
   "execution_count": 1,
   "metadata": {},
   "outputs": [],
   "source": [
    "import os\n",
    "import cmdstanpy\n",
    "from cmdstanpy import Model, StanFit, cmdstan_path\n",
    "from cmdstanpy import Model, StanFit\n",
    "import ujson as json"
   ]
  },
  {
   "cell_type": "markdown",
   "metadata": {},
   "source": [
    "<h3>Example:</h3>\n",
    "\n",
    "Running the model on Men's 2014 World Cup"
   ]
  },
  {
   "cell_type": "code",
   "execution_count": 2,
   "metadata": {},
   "outputs": [
    {
     "data": {
      "text/plain": [
       "dict_keys(['I', 'N', 'team_1', 'team_2', 'score_1', 'score_2', 'prior_score'])"
      ]
     },
     "execution_count": 2,
     "metadata": {},
     "output_type": "execute_result"
    }
   ],
   "source": [
    "with open('../data/worldcup_gelman/worldcup_2014.data.json', 'r') as fd:\n",
    "    data_dict = json.load(fd)\n",
    "data_dict.keys()\n",
    "\n",
    "# stan_wc = Model(stan_file='../data/worldcup_gelman/worldcup_rep_ag.stan')\n",
    "# stan_wc.compile()\n",
    "# stan_wc\n",
    "\n",
    "# worldcup_fit = stan_wc.sample(data=data_dict, chains=4)\n",
    "# worldcup_fit.diagnose()\n",
    "# worldcup_fit.summary()"
   ]
  },
  {
   "cell_type": "code",
   "execution_count": 5,
   "metadata": {},
   "outputs": [
    {
     "data": {
      "text/plain": [
       "dict_keys(['countries'])"
      ]
     },
     "execution_count": 5,
     "metadata": {},
     "output_type": "execute_result"
    }
   ],
   "source": [
    "with open('../data/worldcup_gelman/countries.data.json', 'r') as fd_country:\n",
    "    country_dict = json.load(fd_country)\n",
    "country_dict.keys()"
   ]
  },
  {
   "cell_type": "code",
   "execution_count": 6,
   "metadata": {},
   "outputs": [
    {
     "data": {
      "text/plain": [
       "[1, 'Bresil']"
      ]
     },
     "execution_count": 6,
     "metadata": {},
     "output_type": "execute_result"
    }
   ],
   "source": [
    "country_dict['countries'][0]"
   ]
  },
  {
   "cell_type": "markdown",
   "metadata": {},
   "source": [
    "<h3> Attempting the same for the Women' World Cup Data </h3>\n",
    "\n",
    "(Import the data... and massaging it into the format stan needs it in.) \n",
    "\n",
    "Data input needs to be in a dictionary format;\n",
    "Keys in the dictionary are the names of the variables in the data block of the stan model;"
   ]
  },
  {
   "cell_type": "code",
   "execution_count": 7,
   "metadata": {
    "scrolled": true
   },
   "outputs": [
    {
     "name": "stdout",
     "output_type": "stream",
     "text": [
      "Index(['date', 'league_id', 'league', 'team1', 'team2', 'spi1', 'spi2',\n",
      "       'prob1', 'prob2', 'probtie', 'proj_score1', 'proj_score2', 'score1',\n",
      "       'score2', 'xg1', 'xg2', 'nsxg1', 'nsxg2', 'adj_score1', 'adj_score2'],\n",
      "      dtype='object') Index(['forecast_timestamp', 'team', 'group', 'spi', 'global_o', 'global_d',\n",
      "       'sim_wins', 'sim_ties', 'sim_losses', 'sim_goal_diff', 'goals_scored',\n",
      "       'goals_against', 'group_1', 'group_2', 'group_3', 'group_4',\n",
      "       'make_round_of_16', 'make_quarters', 'make_semis', 'make_final',\n",
      "       'win_league', 'timestamp'],\n",
      "      dtype='object')\n"
     ]
    }
   ],
   "source": [
    "import pandas as pd\n",
    "matches = pd.read_csv(\"/Users/nitya/NYCPyLadies_CmdStanPy/data/womens-world-cup-2019/wwc_matches.csv\")\n",
    "forecasts = pd.read_csv(\"/Users/nitya/NYCPyLadies_CmdStanPy/data/womens-world-cup-2019/wwc_forecasts.csv\")\n",
    "print(matches.columns, forecasts.columns)"
   ]
  },
  {
   "cell_type": "code",
   "execution_count": 8,
   "metadata": {},
   "outputs": [
    {
     "data": {
      "text/plain": [
       "array(['South Korea Women', 'China Women', 'South Africa Women',\n",
       "       'Nigeria Women', 'Italy Women', 'Jamaica Women', 'Scotland Women',\n",
       "       'Japan Women', 'Cameroon Women', 'Netherlands Women',\n",
       "       'Sweden Women', 'Thailand Women', 'Spain Women', 'Norway Women',\n",
       "       'Brazil Women', 'Argentina Women', 'New Zealand Women',\n",
       "       'Chile Women', 'Germany Women', 'France Women', 'Australia Women',\n",
       "       'England Women', 'Canada Women', 'USA Women'], dtype=object)"
      ]
     },
     "execution_count": 8,
     "metadata": {},
     "output_type": "execute_result"
    }
   ],
   "source": [
    "matches.team2.unique()"
   ]
  },
  {
   "cell_type": "code",
   "execution_count": 28,
   "metadata": {},
   "outputs": [],
   "source": [
    "countries = forecasts[95:][['team', 'spi']].sort_values(by=['spi'], ascending=False)"
   ]
  },
  {
   "cell_type": "code",
   "execution_count": 29,
   "metadata": {},
   "outputs": [
    {
     "name": "stdout",
     "output_type": "stream",
     "text": [
      "['USA' 'France' 'Germany' 'Australia' 'Netherlands' 'England' 'Japan'\n",
      " 'Canada' 'Brazil' 'Sweden' 'Spain' 'New Zealand' 'Norway' 'China'\n",
      " 'South Korea' 'Italy' 'Nigeria' 'Cameroon' 'South Africa' 'Jamaica'\n",
      " 'Scotland' 'Thailand' 'Chile' 'Argentina' 'Argentina']\n"
     ]
    }
   ],
   "source": [
    "wwc2019_country = countries['team'].values\n",
    "print(wwc2019_country)"
   ]
  },
  {
   "cell_type": "code",
   "execution_count": 12,
   "metadata": {},
   "outputs": [],
   "source": [
    "spi = dict(zip(wwc2019_country, list(range(1, len(wwc2019_country)))))"
   ]
  },
  {
   "cell_type": "code",
   "execution_count": 13,
   "metadata": {},
   "outputs": [
    {
     "data": {
      "text/plain": [
       "{'USA': 1,\n",
       " 'France': 2,\n",
       " 'Germany': 3,\n",
       " 'Australia': 4,\n",
       " 'Netherlands': 5,\n",
       " 'England': 6,\n",
       " 'Japan': 7,\n",
       " 'Canada': 8,\n",
       " 'Brazil': 9,\n",
       " 'Sweden': 10,\n",
       " 'Spain': 11,\n",
       " 'New Zealand': 12,\n",
       " 'Norway': 13,\n",
       " 'China': 14,\n",
       " 'South Korea': 15,\n",
       " 'Italy': 16,\n",
       " 'Nigeria': 17,\n",
       " 'Cameroon': 18,\n",
       " 'South Africa': 19,\n",
       " 'Jamaica': 20,\n",
       " 'Scotland': 21,\n",
       " 'Thailand': 22,\n",
       " 'Chile': 23,\n",
       " 'Argentina': 24}"
      ]
     },
     "execution_count": 13,
     "metadata": {},
     "output_type": "execute_result"
    }
   ],
   "source": [
    "spi['Argentina'] = 24\n",
    "spi"
   ]
  },
  {
   "cell_type": "code",
   "execution_count": 14,
   "metadata": {},
   "outputs": [],
   "source": [
    "import numpy as np"
   ]
  },
  {
   "cell_type": "code",
   "execution_count": 15,
   "metadata": {},
   "outputs": [
    {
     "data": {
      "text/plain": [
       "24"
      ]
     },
     "execution_count": 15,
     "metadata": {},
     "output_type": "execute_result"
    }
   ],
   "source": [
    "len(countries['spi'])"
   ]
  },
  {
   "cell_type": "code",
   "execution_count": 16,
   "metadata": {},
   "outputs": [],
   "source": [
    "mean = np.mean(countries['spi'])\n",
    "std = np.std(countries['spi'])\n",
    "countries['prior_score'] = [(x - mean)/std for x in countries['spi']]"
   ]
  },
  {
   "cell_type": "code",
   "execution_count": 17,
   "metadata": {},
   "outputs": [
    {
     "data": {
      "text/plain": [
       "0.22513875698459"
      ]
     },
     "execution_count": 17,
     "metadata": {},
     "output_type": "execute_result"
    }
   ],
   "source": [
    "std/mean"
   ]
  },
  {
   "cell_type": "code",
   "execution_count": 18,
   "metadata": {},
   "outputs": [
    {
     "data": {
      "text/plain": [
       "97     1.159123\n",
       "96     1.050296\n",
       "98     0.984274\n",
       "101    0.924374\n",
       "100    0.899969\n",
       "99     0.899669\n",
       "102    0.875904\n",
       "103    0.872143\n",
       "105    0.693165\n",
       "104    0.506575\n",
       "106    0.374033\n",
       "109    0.339315\n",
       "107    0.335476\n",
       "108    0.288647\n",
       "110    0.211270\n",
       "112   -0.344675\n",
       "111   -0.356842\n",
       "114   -0.839073\n",
       "113   -0.897740\n",
       "115   -0.997218\n",
       "116   -1.517592\n",
       "117   -1.535829\n",
       "119   -1.620591\n",
       "118   -2.304670\n",
       "Name: prior_score, dtype: float64"
      ]
     },
     "execution_count": 18,
     "metadata": {},
     "output_type": "execute_result"
    }
   ],
   "source": [
    "countries['prior_score']"
   ]
  },
  {
   "cell_type": "code",
   "execution_count": 19,
   "metadata": {},
   "outputs": [],
   "source": [
    "matches['team1'] = matches['team1'].apply(lambda x: x.split(' ')[0])\n",
    "matches['team2'] = matches['team2'].apply(lambda x: x.split(' ')[0])"
   ]
  },
  {
   "cell_type": "code",
   "execution_count": 20,
   "metadata": {},
   "outputs": [],
   "source": [
    "mydict = dict({'team_1': matches['team1'].values,\n",
    "               'team_2': matches['team2'].values,\n",
    "               'score_1': matches['score1'].values,\n",
    "               'score_2': matches['score2'].values,\n",
    "              'prior_score': countries['prior_score'].values})"
   ]
  },
  {
   "cell_type": "code",
   "execution_count": 21,
   "metadata": {},
   "outputs": [],
   "source": [
    "mydict['team_1'] = [spi.get(x) for x in mydict['team1']]\n",
    "mydict['team_2'] = [spi.get(x) for x in mydict['team2']]"
   ]
  },
  {
   "cell_type": "code",
   "execution_count": 22,
   "metadata": {},
   "outputs": [],
   "source": []
  },
  {
   "cell_type": "code",
   "execution_count": 23,
   "metadata": {},
   "outputs": [
    {
     "name": "stderr",
     "output_type": "stream",
     "text": [
      "INFO:cmdstanpy:compiling c++\n",
      "INFO:cmdstanpy:compiled model file: /Users/nitya/NYCPyLadies_CmdStanPy/data/worldcup_gelman/worldcup_rep_ag\n"
     ]
    },
    {
     "data": {
      "text/plain": [
       "Model(name=worldcup_rep_ag,  stan_file=\"../data/worldcup_gelman/worldcup_rep_ag.stan\", exe_file=\"/Users/nitya/NYCPyLadies_CmdStanPy/data/worldcup_gelman/worldcup_rep_ag\")"
      ]
     },
     "execution_count": 23,
     "metadata": {},
     "output_type": "execute_result"
    }
   ],
   "source": [
    "stan_wc = Model(stan_file='../data/worldcup_gelman/worldcup_rep_ag.stan')\n",
    "stan_wc.compile()\n",
    "stan_wc"
   ]
  },
  {
   "cell_type": "code",
   "execution_count": 24,
   "metadata": {},
   "outputs": [
    {
     "data": {
      "text/plain": [
       "{'team1': [2,\n",
       "  3,\n",
       "  11,\n",
       "  13,\n",
       "  4,\n",
       "  9,\n",
       "  6,\n",
       "  24,\n",
       "  8,\n",
       "  None,\n",
       "  23,\n",
       "  1,\n",
       "  17,\n",
       "  3,\n",
       "  2,\n",
       "  4,\n",
       "  None,\n",
       "  7,\n",
       "  20,\n",
       "  6,\n",
       "  5,\n",
       "  8,\n",
       "  10,\n",
       "  1,\n",
       "  14,\n",
       "  None,\n",
       "  17,\n",
       "  None,\n",
       "  16,\n",
       "  20,\n",
       "  21,\n",
       "  7,\n",
       "  18,\n",
       "  5,\n",
       "  10,\n",
       "  22,\n",
       "  3,\n",
       "  13,\n",
       "  6,\n",
       "  2,\n",
       "  11,\n",
       "  10,\n",
       "  16,\n",
       "  5,\n",
       "  13,\n",
       "  2,\n",
       "  16,\n",
       "  3],\n",
       " 'team2': [None,\n",
       "  14,\n",
       "  None,\n",
       "  17,\n",
       "  16,\n",
       "  20,\n",
       "  21,\n",
       "  7,\n",
       "  18,\n",
       "  5,\n",
       "  10,\n",
       "  22,\n",
       "  None,\n",
       "  11,\n",
       "  13,\n",
       "  9,\n",
       "  14,\n",
       "  21,\n",
       "  16,\n",
       "  24,\n",
       "  18,\n",
       "  None,\n",
       "  22,\n",
       "  23,\n",
       "  11,\n",
       "  3,\n",
       "  2,\n",
       "  13,\n",
       "  9,\n",
       "  4,\n",
       "  24,\n",
       "  6,\n",
       "  None,\n",
       "  8,\n",
       "  1,\n",
       "  23,\n",
       "  17,\n",
       "  4,\n",
       "  18,\n",
       "  9,\n",
       "  1,\n",
       "  8,\n",
       "  14,\n",
       "  7,\n",
       "  6,\n",
       "  1,\n",
       "  5,\n",
       "  10],\n",
       " 'score_1': array([ 4.,  1.,  3.,  3.,  1.,  3.,  2.,  0.,  1.,  0.,  0., 13.,  2.,\n",
       "         1.,  2.,  3.,  0.,  2.,  0.,  1.,  3.,  2.,  5.,  3.,  0.,  0.,\n",
       "         0.,  1.,  0.,  1.,  3.,  0.,  2.,  2.,  0.,  0.,  3.,  1.,  3.,\n",
       "         2.,  1.,  1.,  2.,  2., nan, nan, nan, nan]),\n",
       " 'score_2': array([ 0.,  0.,  1.,  0.,  2.,  0.,  1.,  0.,  0.,  1.,  2.,  0.,  0.,\n",
       "         0.,  1.,  2.,  1.,  1.,  5.,  0.,  1.,  0.,  1.,  0.,  0.,  4.,\n",
       "         1.,  2.,  1.,  4.,  3.,  2.,  1.,  1.,  2.,  2.,  0.,  1.,  0.,\n",
       "         1.,  2.,  0.,  0.,  1., nan, nan, nan, nan]),\n",
       " 'prior_score': array([ 1.15912251,  1.05029595,  0.9842738 ,  0.92437356,  0.89996888,\n",
       "         0.89966869,  0.87590415,  0.87214285,  0.69316466,  0.50657455,\n",
       "         0.374033  ,  0.33931471,  0.3354762 ,  0.28864717,  0.21126967,\n",
       "        -0.34467539, -0.356842  , -0.8390729 , -0.89774012, -0.99721816,\n",
       "        -1.5175916 , -1.53582942, -1.62059067, -2.30467007])}"
      ]
     },
     "execution_count": 24,
     "metadata": {},
     "output_type": "execute_result"
    }
   ],
   "source": [
    "mydict"
   ]
  },
  {
   "cell_type": "code",
   "execution_count": 27,
   "metadata": {},
   "outputs": [
    {
     "name": "stderr",
     "output_type": "stream",
     "text": [
      "INFO:cmdstanpy:start chain 1\n",
      "INFO:cmdstanpy:start chain 2\n",
      "INFO:cmdstanpy:finish chain 1\n",
      "INFO:cmdstanpy:finish chain 2\n",
      "INFO:cmdstanpy:start chain 3\n",
      "INFO:cmdstanpy:start chain 4\n",
      "INFO:cmdstanpy:finish chain 3\n",
      "INFO:cmdstanpy:finish chain 4\n"
     ]
    },
    {
     "ename": "RuntimeError",
     "evalue": "Error during sampling, chain 0 returned error code 70, chain 1 returned error code 70, chain 2 returned error code 70, chain 3 returned error code 70",
     "output_type": "error",
     "traceback": [
      "\u001b[0;31m---------------------------------------------------------------------------\u001b[0m",
      "\u001b[0;31mRuntimeError\u001b[0m                              Traceback (most recent call last)",
      "\u001b[0;32m<ipython-input-27-0f3064d2aaf5>\u001b[0m in \u001b[0;36m<module>\u001b[0;34m\u001b[0m\n\u001b[0;32m----> 1\u001b[0;31m \u001b[0mworldcup_fit\u001b[0m \u001b[0;34m=\u001b[0m \u001b[0mstan_wc\u001b[0m\u001b[0;34m.\u001b[0m\u001b[0msample\u001b[0m\u001b[0;34m(\u001b[0m\u001b[0mdata\u001b[0m\u001b[0;34m=\u001b[0m\u001b[0mmydict\u001b[0m\u001b[0;34m,\u001b[0m \u001b[0mchains\u001b[0m\u001b[0;34m=\u001b[0m\u001b[0;36m4\u001b[0m\u001b[0;34m)\u001b[0m\u001b[0;34m\u001b[0m\u001b[0;34m\u001b[0m\u001b[0m\n\u001b[0m\u001b[1;32m      2\u001b[0m \u001b[0mworldcup_fit\u001b[0m\u001b[0;34m.\u001b[0m\u001b[0mdiagnose\u001b[0m\u001b[0;34m(\u001b[0m\u001b[0;34m)\u001b[0m\u001b[0;34m\u001b[0m\u001b[0;34m\u001b[0m\u001b[0m\n\u001b[1;32m      3\u001b[0m \u001b[0mworldcup_fit\u001b[0m\u001b[0;34m.\u001b[0m\u001b[0msummary\u001b[0m\u001b[0;34m(\u001b[0m\u001b[0;34m)\u001b[0m\u001b[0;34m\u001b[0m\u001b[0;34m\u001b[0m\u001b[0m\n",
      "\u001b[0;32m~/miniconda3/lib/python3.6/site-packages/cmdstanpy/model.py\u001b[0m in \u001b[0;36msample\u001b[0;34m(self, data, chains, cores, seed, chain_ids, inits, warmup_iters, sampling_iters, save_warmup, thin, max_treedepth, metric, step_size, adapt_engaged, adapt_delta, csv_basename, show_progress)\u001b[0m\n\u001b[1;32m    483\u001b[0m                             \u001b[0mmsg\u001b[0m\u001b[0;34m,\u001b[0m \u001b[0mi\u001b[0m\u001b[0;34m,\u001b[0m \u001b[0mstanfit\u001b[0m\u001b[0;34m.\u001b[0m\u001b[0m_retcode\u001b[0m\u001b[0;34m(\u001b[0m\u001b[0mi\u001b[0m\u001b[0;34m)\u001b[0m\u001b[0;34m\u001b[0m\u001b[0;34m\u001b[0m\u001b[0m\n\u001b[1;32m    484\u001b[0m                         )\n\u001b[0;32m--> 485\u001b[0;31m                 \u001b[0;32mraise\u001b[0m \u001b[0mRuntimeError\u001b[0m\u001b[0;34m(\u001b[0m\u001b[0mmsg\u001b[0m\u001b[0;34m)\u001b[0m\u001b[0;34m\u001b[0m\u001b[0;34m\u001b[0m\u001b[0m\n\u001b[0m\u001b[1;32m    486\u001b[0m             \u001b[0mstanfit\u001b[0m\u001b[0;34m.\u001b[0m\u001b[0m_validate_csv_files\u001b[0m\u001b[0;34m(\u001b[0m\u001b[0;34m)\u001b[0m\u001b[0;34m\u001b[0m\u001b[0;34m\u001b[0m\u001b[0m\n\u001b[1;32m    487\u001b[0m         \u001b[0;32mreturn\u001b[0m \u001b[0mstanfit\u001b[0m\u001b[0;34m\u001b[0m\u001b[0;34m\u001b[0m\u001b[0m\n",
      "\u001b[0;31mRuntimeError\u001b[0m: Error during sampling, chain 0 returned error code 70, chain 1 returned error code 70, chain 2 returned error code 70, chain 3 returned error code 70"
     ]
    }
   ],
   "source": [
    "worldcup_fit = stan_wc.sample(data=mydict, chains=4)\n",
    "worldcup_fit.diagnose()\n",
    "worldcup_fit.summary()"
   ]
  },
  {
   "cell_type": "code",
   "execution_count": null,
   "metadata": {},
   "outputs": [],
   "source": []
  }
 ],
 "metadata": {
  "kernelspec": {
   "display_name": "Python 3",
   "language": "python",
   "name": "python3"
  },
  "language_info": {
   "codemirror_mode": {
    "name": "ipython",
    "version": 3
   },
   "file_extension": ".py",
   "mimetype": "text/x-python",
   "name": "python",
   "nbconvert_exporter": "python",
   "pygments_lexer": "ipython3",
   "version": "3.6.8"
  }
 },
 "nbformat": 4,
 "nbformat_minor": 2
}
